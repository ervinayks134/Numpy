{
 "cells": [
  {
   "cell_type": "markdown",
   "id": "adc643ec-c3a2-47ce-922a-e8381f73dd9f",
   "metadata": {},
   "source": [
    "# Main benefits of Numpy array over python list are:\n",
    "\n",
    "1. Less Memory Requirement\n",
    "2. Fast\n",
    "3. Convinient"
   ]
  },
  {
   "cell_type": "code",
   "execution_count": 5,
   "id": "fe982de2-e3aa-4a87-9966-966235147d69",
   "metadata": {},
   "outputs": [],
   "source": [
    "import numpy as np\n",
    "import time\n",
    "import sys"
   ]
  },
  {
   "cell_type": "code",
   "execution_count": 19,
   "id": "0655867e-77f0-4e24-9412-c3191c2efc0f",
   "metadata": {},
   "outputs": [
    {
     "data": {
      "text/plain": [
       "28000"
      ]
     },
     "execution_count": 19,
     "metadata": {},
     "output_type": "execute_result"
    }
   ],
   "source": [
    "list1 = range(1000)\n",
    "sys.getsizeof(5)*len(list1)"
   ]
  },
  {
   "cell_type": "code",
   "execution_count": 29,
   "id": "1d926d9a-c133-4d6f-bbf9-969aacd49f71",
   "metadata": {},
   "outputs": [
    {
     "data": {
      "text/plain": [
       "4000"
      ]
     },
     "execution_count": 29,
     "metadata": {},
     "output_type": "execute_result"
    }
   ],
   "source": [
    "array1 = np.arange(1000)\n",
    "array1.size*array1.itemsize"
   ]
  },
  {
   "cell_type": "markdown",
   "id": "d8d808d2-932a-48a9-aa9c-31167e4cfbd9",
   "metadata": {},
   "source": [
    "**By above expample, it is clear that Numpy array consume less memory then Python List.**"
   ]
  },
  {
   "cell_type": "code",
   "execution_count": 43,
   "id": "0807ec43-d308-4be0-95fa-a3c8fdc6d1ce",
   "metadata": {},
   "outputs": [
    {
     "name": "stdout",
     "output_type": "stream",
     "text": [
      "1.6620495319366455\n"
     ]
    }
   ],
   "source": [
    "l1 = range(10000000)\n",
    "l2 = range(10000000)\n",
    "\n",
    "start = time.time()\n",
    "result = [(i+j) for i,j in zip(l1,l2)]\n",
    "print(time.time()-start)"
   ]
  },
  {
   "cell_type": "code",
   "execution_count": 45,
   "id": "c0319923-6820-4779-8811-9eb4aa45929d",
   "metadata": {},
   "outputs": [
    {
     "name": "stdout",
     "output_type": "stream",
     "text": [
      "0.19090580940246582\n"
     ]
    }
   ],
   "source": [
    "a1 = np.arange(10000000)\n",
    "a2 = np.arange(10000000)\n",
    "\n",
    "start = time.time()\n",
    "result = a1 +a2\n",
    "print(time.time()-start)"
   ]
  },
  {
   "cell_type": "markdown",
   "id": "09efe9f1-8fd5-44b4-b766-38b495abe8a6",
   "metadata": {},
   "source": [
    "**By above expample, it is clear that Numpy array is time efficient and convinient to use then Python List.**"
   ]
  },
  {
   "cell_type": "code",
   "execution_count": null,
   "id": "b9bf66cd-8616-4382-a91b-9b6d280ac8a1",
   "metadata": {},
   "outputs": [],
   "source": []
  }
 ],
 "metadata": {
  "kernelspec": {
   "display_name": "Python 3 (ipykernel)",
   "language": "python",
   "name": "python3"
  },
  "language_info": {
   "codemirror_mode": {
    "name": "ipython",
    "version": 3
   },
   "file_extension": ".py",
   "mimetype": "text/x-python",
   "name": "python",
   "nbconvert_exporter": "python",
   "pygments_lexer": "ipython3",
   "version": "3.12.4"
  }
 },
 "nbformat": 4,
 "nbformat_minor": 5
}
