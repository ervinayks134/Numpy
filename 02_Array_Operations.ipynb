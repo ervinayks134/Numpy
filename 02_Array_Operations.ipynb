{
 "cells": [
  {
   "cell_type": "code",
   "execution_count": 2,
   "id": "f74e8f92-80db-4415-bb3e-c5fa118b0c7f",
   "metadata": {},
   "outputs": [],
   "source": [
    "import numpy as np"
   ]
  },
  {
   "cell_type": "code",
   "execution_count": 10,
   "id": "0c46dc94-bb05-412f-8f77-a18f32d96ed8",
   "metadata": {},
   "outputs": [
    {
     "data": {
      "text/plain": [
       "array([1, 2, 3, 4, 5])"
      ]
     },
     "execution_count": 10,
     "metadata": {},
     "output_type": "execute_result"
    }
   ],
   "source": [
    "A1 = np.array([1,2,3,4,5])\n",
    "A1"
   ]
  },
  {
   "cell_type": "code",
   "execution_count": 12,
   "id": "7b34a22c-e0d7-4a3a-9470-b589a5d0deaf",
   "metadata": {},
   "outputs": [
    {
     "data": {
      "text/plain": [
       "1"
      ]
     },
     "execution_count": 12,
     "metadata": {},
     "output_type": "execute_result"
    }
   ],
   "source": [
    "A1.ndim"
   ]
  },
  {
   "cell_type": "code",
   "execution_count": 14,
   "id": "79f9fb33-a1a2-45f2-aad8-528d243c9993",
   "metadata": {},
   "outputs": [
    {
     "data": {
      "text/plain": [
       "dtype('int32')"
      ]
     },
     "execution_count": 14,
     "metadata": {},
     "output_type": "execute_result"
    }
   ],
   "source": [
    "A1.dtype"
   ]
  },
  {
   "cell_type": "code",
   "execution_count": 16,
   "id": "f56738b8-5a1d-4422-9a9e-06e843fa0d6d",
   "metadata": {},
   "outputs": [
    {
     "data": {
      "text/plain": [
       "(5,)"
      ]
     },
     "execution_count": 16,
     "metadata": {},
     "output_type": "execute_result"
    }
   ],
   "source": [
    "A1.shape"
   ]
  },
  {
   "cell_type": "code",
   "execution_count": 18,
   "id": "c8c14f08-a01c-4421-bcd4-2645bae7256a",
   "metadata": {},
   "outputs": [
    {
     "data": {
      "text/plain": [
       "5"
      ]
     },
     "execution_count": 18,
     "metadata": {},
     "output_type": "execute_result"
    }
   ],
   "source": [
    "A1.size"
   ]
  },
  {
   "cell_type": "code",
   "execution_count": 24,
   "id": "4b63f607-f0e6-48e9-8997-2eafa06f29d3",
   "metadata": {},
   "outputs": [
    {
     "data": {
      "text/plain": [
       "20"
      ]
     },
     "execution_count": 24,
     "metadata": {},
     "output_type": "execute_result"
    }
   ],
   "source": [
    "A1.itemsize*A1.size"
   ]
  },
  {
   "cell_type": "code",
   "execution_count": 40,
   "id": "54d4be1a-347a-4bb5-8a7d-a237cf05c52c",
   "metadata": {},
   "outputs": [
    {
     "data": {
      "text/plain": [
       "array([[1., 2., 3.],\n",
       "       [4., 5., 6.],\n",
       "       [7., 8., 9.]])"
      ]
     },
     "execution_count": 40,
     "metadata": {},
     "output_type": "execute_result"
    }
   ],
   "source": [
    "A2 = np.array([[1,2,3],[4,5,6],[7,8,9]], dtype = float)\n",
    "A2"
   ]
  },
  {
   "cell_type": "code",
   "execution_count": 30,
   "id": "40ee218e-c7fb-476d-b7e6-f3a5890a85cd",
   "metadata": {},
   "outputs": [
    {
     "data": {
      "text/plain": [
       "2"
      ]
     },
     "execution_count": 30,
     "metadata": {},
     "output_type": "execute_result"
    }
   ],
   "source": [
    "A2.ndim"
   ]
  },
  {
   "cell_type": "code",
   "execution_count": 32,
   "id": "02bbf4e4-e9b5-4fa4-9d97-38dd48e0cf3d",
   "metadata": {},
   "outputs": [
    {
     "data": {
      "text/plain": [
       "(3, 3)"
      ]
     },
     "execution_count": 32,
     "metadata": {},
     "output_type": "execute_result"
    }
   ],
   "source": [
    "A2.shape"
   ]
  },
  {
   "cell_type": "code",
   "execution_count": 34,
   "id": "970231d2-c802-4e11-aec2-1fd1c504c1e4",
   "metadata": {},
   "outputs": [
    {
     "data": {
      "text/plain": [
       "9"
      ]
     },
     "execution_count": 34,
     "metadata": {},
     "output_type": "execute_result"
    }
   ],
   "source": [
    "A2.size"
   ]
  },
  {
   "cell_type": "code",
   "execution_count": 36,
   "id": "82f80365-0696-4eda-90b9-dff49f4ccdde",
   "metadata": {},
   "outputs": [
    {
     "data": {
      "text/plain": [
       "dtype('int32')"
      ]
     },
     "execution_count": 36,
     "metadata": {},
     "output_type": "execute_result"
    }
   ],
   "source": [
    "A2.dtype"
   ]
  },
  {
   "cell_type": "code",
   "execution_count": 42,
   "id": "2d305752-0ffd-41d8-a6ee-54234f2f2af2",
   "metadata": {},
   "outputs": [
    {
     "data": {
      "text/plain": [
       "72"
      ]
     },
     "execution_count": 42,
     "metadata": {},
     "output_type": "execute_result"
    }
   ],
   "source": [
    "A2.size*A2.itemsize"
   ]
  },
  {
   "cell_type": "code",
   "execution_count": 64,
   "id": "a9328c5d-07b7-493e-969b-bb6eb2d763c7",
   "metadata": {},
   "outputs": [
    {
     "data": {
      "text/plain": [
       "array([0., 0., 0., 0., 0., 0., 0., 0., 0.])"
      ]
     },
     "execution_count": 64,
     "metadata": {},
     "output_type": "execute_result"
    }
   ],
   "source": [
    "A3 = np.zeros(9)\n",
    "A3"
   ]
  },
  {
   "cell_type": "code",
   "execution_count": 66,
   "id": "7c2cf407-8ac3-4df6-bb77-69a7ea746e96",
   "metadata": {},
   "outputs": [
    {
     "data": {
      "text/plain": [
       "array([[0., 0., 0.],\n",
       "       [0., 0., 0.],\n",
       "       [0., 0., 0.]])"
      ]
     },
     "execution_count": 66,
     "metadata": {},
     "output_type": "execute_result"
    }
   ],
   "source": [
    "A3.reshape(3,3,3)"
   ]
  },
  {
   "cell_type": "code",
   "execution_count": 70,
   "id": "43fe11b3-e574-46e0-87ca-b0fa4218b819",
   "metadata": {},
   "outputs": [
    {
     "data": {
      "text/plain": [
       "array([1., 1., 1., 1., 1., 1., 1., 1., 1., 1., 1., 1., 1., 1., 1., 1., 1.,\n",
       "       1., 1., 1., 1., 1., 1., 1., 1., 1., 1.])"
      ]
     },
     "execution_count": 70,
     "metadata": {},
     "output_type": "execute_result"
    }
   ],
   "source": [
    "A4 = np.ones()\n",
    "A4"
   ]
  },
  {
   "cell_type": "code",
   "execution_count": 72,
   "id": "9b2e1265-87f7-4bcb-8873-6cdbd3268995",
   "metadata": {},
   "outputs": [
    {
     "data": {
      "text/plain": [
       "1"
      ]
     },
     "execution_count": 72,
     "metadata": {},
     "output_type": "execute_result"
    }
   ],
   "source": [
    "A4.ndim"
   ]
  },
  {
   "cell_type": "code",
   "execution_count": 82,
   "id": "6e70ab78-21f7-4a53-9122-e7ada06b9e7d",
   "metadata": {},
   "outputs": [
    {
     "data": {
      "text/plain": [
       "array([[[1., 1., 1.],\n",
       "        [1., 1., 1.],\n",
       "        [1., 1., 1.]],\n",
       "\n",
       "       [[1., 1., 1.],\n",
       "        [1., 1., 1.],\n",
       "        [1., 1., 1.]],\n",
       "\n",
       "       [[1., 1., 1.],\n",
       "        [1., 1., 1.],\n",
       "        [1., 1., 1.]]])"
      ]
     },
     "execution_count": 82,
     "metadata": {},
     "output_type": "execute_result"
    }
   ],
   "source": [
    "A5 = A4.reshape(3,3,3)\n",
    "A5"
   ]
  },
  {
   "cell_type": "code",
   "execution_count": 84,
   "id": "6c0b4d16-ff8b-4614-a9f8-5e7a42872811",
   "metadata": {},
   "outputs": [
    {
     "data": {
      "text/plain": [
       "3"
      ]
     },
     "execution_count": 84,
     "metadata": {},
     "output_type": "execute_result"
    }
   ],
   "source": [
    "A5.ndim"
   ]
  },
  {
   "cell_type": "code",
   "execution_count": 88,
   "id": "a712c57c-2d13-4fc1-817a-5dc4e472a2d6",
   "metadata": {},
   "outputs": [
    {
     "data": {
      "text/plain": [
       "array([[[0., 0., 0.],\n",
       "        [0., 0., 0.],\n",
       "        [0., 0., 0.]],\n",
       "\n",
       "       [[0., 0., 0.],\n",
       "        [0., 0., 0.],\n",
       "        [0., 0., 0.]],\n",
       "\n",
       "       [[0., 0., 0.],\n",
       "        [0., 0., 0.],\n",
       "        [0., 0., 0.]]])"
      ]
     },
     "execution_count": 88,
     "metadata": {},
     "output_type": "execute_result"
    }
   ],
   "source": [
    "A6 = np.zeros(((3,3,3)))\n",
    "A6"
   ]
  },
  {
   "cell_type": "code",
   "execution_count": 96,
   "id": "a0de16a6-0339-4350-ba1e-ef53db325eb2",
   "metadata": {},
   "outputs": [
    {
     "data": {
      "text/plain": [
       "array([ 0,  1,  2,  3,  4,  5,  6,  7,  8,  9, 10, 11, 12, 13, 14, 15, 16,\n",
       "       17, 18, 19, 20, 21, 22, 23, 24, 25, 26, 27, 28, 29, 30, 31, 32, 33,\n",
       "       34, 35, 36, 37, 38, 39, 40, 41, 42, 43, 44, 45, 46, 47, 48, 49, 50,\n",
       "       51, 52, 53, 54, 55, 56, 57, 58, 59, 60, 61, 62, 63, 64, 65, 66, 67,\n",
       "       68, 69, 70, 71, 72, 73, 74, 75, 76, 77, 78, 79, 80, 81, 82, 83, 84,\n",
       "       85, 86, 87, 88, 89, 90, 91, 92, 93, 94, 95, 96, 97, 98, 99])"
      ]
     },
     "execution_count": 96,
     "metadata": {},
     "output_type": "execute_result"
    }
   ],
   "source": [
    "A7 = np.arange(100) # Index starts from 0, so the last value get excluded\n",
    "A7"
   ]
  },
  {
   "cell_type": "code",
   "execution_count": 100,
   "id": "a84943c6-50b0-4aca-a62b-f402fe962f69",
   "metadata": {},
   "outputs": [
    {
     "data": {
      "text/plain": [
       "array([50, 51, 52, 53, 54, 55, 56, 57, 58, 59, 60, 61, 62, 63, 64, 65, 66,\n",
       "       67, 68, 69, 70, 71, 72, 73, 74, 75, 76, 77, 78, 79, 80, 81, 82, 83,\n",
       "       84, 85, 86, 87, 88, 89, 90, 91, 92, 93, 94, 95, 96, 97, 98, 99])"
      ]
     },
     "execution_count": 100,
     "metadata": {},
     "output_type": "execute_result"
    }
   ],
   "source": [
    "A8 = np.arange(50,100) \n",
    "A8"
   ]
  },
  {
   "cell_type": "code",
   "execution_count": 104,
   "id": "3fa3c046-03c0-48cd-a37b-f0d93ea255aa",
   "metadata": {},
   "outputs": [
    {
     "data": {
      "text/plain": [
       "array([50, 52, 54, 56, 58, 60, 62, 64, 66, 68, 70, 72, 74, 76, 78, 80, 82,\n",
       "       84, 86, 88, 90, 92, 94, 96, 98])"
      ]
     },
     "execution_count": 104,
     "metadata": {},
     "output_type": "execute_result"
    }
   ],
   "source": [
    "A9 = np.arange(50,100,2) #This gives step size\n",
    "A9"
   ]
  },
  {
   "cell_type": "code",
   "execution_count": 110,
   "id": "acf05a10-cdde-4cf9-a685-5ef6bb05162d",
   "metadata": {},
   "outputs": [
    {
     "data": {
      "text/plain": [
       "array([  0.,   2.,   4.,   6.,   8.,  10.,  12.,  14.,  16.,  18.,  20.,\n",
       "        22.,  24.,  26.,  28.,  30.,  32.,  34.,  36.,  38.,  40.,  42.,\n",
       "        44.,  46.,  48.,  50.,  52.,  54.,  56.,  58.,  60.,  62.,  64.,\n",
       "        66.,  68.,  70.,  72.,  74.,  76.,  78.,  80.,  82.,  84.,  86.,\n",
       "        88.,  90.,  92.,  94.,  96.,  98., 100.])"
      ]
     },
     "execution_count": 110,
     "metadata": {},
     "output_type": "execute_result"
    }
   ],
   "source": [
    "A10 = np.linspace(0,100,51)\n",
    "A10"
   ]
  },
  {
   "cell_type": "code",
   "execution_count": 114,
   "id": "3b48c4dc-f193-434b-9f00-84f054367c57",
   "metadata": {},
   "outputs": [
    {
     "data": {
      "text/plain": [
       "array([1., 2., 3., 4., 5.])"
      ]
     },
     "execution_count": 114,
     "metadata": {},
     "output_type": "execute_result"
    }
   ],
   "source": [
    "A11 = np.linspace(1,5,5)\n",
    "A11"
   ]
  },
  {
   "cell_type": "code",
   "execution_count": 118,
   "id": "c3dc01b5-aca7-410c-928d-9428bb7460da",
   "metadata": {},
   "outputs": [
    {
     "data": {
      "text/plain": [
       "array([[[0., 0., 0.],\n",
       "        [0., 0., 0.],\n",
       "        [0., 0., 0.]],\n",
       "\n",
       "       [[0., 0., 0.],\n",
       "        [0., 0., 0.],\n",
       "        [0., 0., 0.]],\n",
       "\n",
       "       [[0., 0., 0.],\n",
       "        [0., 0., 0.],\n",
       "        [0., 0., 0.]]])"
      ]
     },
     "execution_count": 118,
     "metadata": {},
     "output_type": "execute_result"
    }
   ],
   "source": [
    "A12 = np.zeros(((3,3,3)))\n",
    "A12"
   ]
  },
  {
   "cell_type": "code",
   "execution_count": 122,
   "id": "6a3ddbc1-0822-437a-9fb1-dfb09549c56e",
   "metadata": {},
   "outputs": [
    {
     "data": {
      "text/plain": [
       "array([0., 0., 0., 0., 0., 0., 0., 0., 0., 0., 0., 0., 0., 0., 0., 0., 0.,\n",
       "       0., 0., 0., 0., 0., 0., 0., 0., 0., 0.])"
      ]
     },
     "execution_count": 122,
     "metadata": {},
     "output_type": "execute_result"
    }
   ],
   "source": [
    "A13 = A12.ravel() # This converts any dimesnion into 1 dimension\n",
    "A13"
   ]
  },
  {
   "cell_type": "code",
   "execution_count": 126,
   "id": "ffa79468-28c1-4868-9d7d-b1022681d3b1",
   "metadata": {},
   "outputs": [
    {
     "data": {
      "text/plain": [
       "array([50, 51, 52, 53, 54, 55, 56, 57, 58, 59, 60, 61, 62, 63, 64, 65, 66,\n",
       "       67, 68, 69, 70, 71, 72, 73, 74, 75, 76, 77, 78, 79, 80, 81, 82, 83,\n",
       "       84, 85, 86, 87, 88, 89, 90, 91, 92, 93, 94, 95, 96, 97, 98, 99])"
      ]
     },
     "execution_count": 126,
     "metadata": {},
     "output_type": "execute_result"
    }
   ],
   "source": [
    "A14 = np.arange(50,100)\n",
    "A14"
   ]
  },
  {
   "cell_type": "code",
   "execution_count": 130,
   "id": "dad7f0e0-1599-43c5-90c1-5aa38f122211",
   "metadata": {},
   "outputs": [
    {
     "data": {
      "text/plain": [
       "50"
      ]
     },
     "execution_count": 130,
     "metadata": {},
     "output_type": "execute_result"
    }
   ],
   "source": [
    "A14.min()"
   ]
  },
  {
   "cell_type": "code",
   "execution_count": 132,
   "id": "4e327ec0-359e-4fc5-a673-48814c3ad04a",
   "metadata": {},
   "outputs": [
    {
     "data": {
      "text/plain": [
       "99"
      ]
     },
     "execution_count": 132,
     "metadata": {},
     "output_type": "execute_result"
    }
   ],
   "source": [
    "A14.max()"
   ]
  },
  {
   "cell_type": "code",
   "execution_count": 134,
   "id": "8f04fa25-ec48-45be-94a7-4bc7c762ce48",
   "metadata": {},
   "outputs": [
    {
     "data": {
      "text/plain": [
       "3725"
      ]
     },
     "execution_count": 134,
     "metadata": {},
     "output_type": "execute_result"
    }
   ],
   "source": [
    "A14.sum()"
   ]
  },
  {
   "cell_type": "code",
   "execution_count": 136,
   "id": "199a7116-7390-49d8-b3a7-f376ffa9d95f",
   "metadata": {},
   "outputs": [
    {
     "data": {
      "text/plain": [
       "array([[1., 1., 1., 1., 1.],\n",
       "       [1., 1., 1., 1., 1.]])"
      ]
     },
     "execution_count": 136,
     "metadata": {},
     "output_type": "execute_result"
    }
   ],
   "source": [
    "A15 = np.ones((2,5))\n",
    "A15"
   ]
  },
  {
   "cell_type": "code",
   "execution_count": 138,
   "id": "2971e5d4-ed87-4d94-a481-e1a54dba0ffb",
   "metadata": {},
   "outputs": [
    {
     "data": {
      "text/plain": [
       "array([5., 5.])"
      ]
     },
     "execution_count": 138,
     "metadata": {},
     "output_type": "execute_result"
    }
   ],
   "source": [
    "A15.sum(axis=1) #Row wise"
   ]
  },
  {
   "cell_type": "code",
   "execution_count": 140,
   "id": "59609cf1-517c-440d-b96d-ac2bf012be70",
   "metadata": {},
   "outputs": [
    {
     "data": {
      "text/plain": [
       "array([2., 2., 2., 2., 2.])"
      ]
     },
     "execution_count": 140,
     "metadata": {},
     "output_type": "execute_result"
    }
   ],
   "source": [
    "A15.sum(axis=0) #Column wise"
   ]
  },
  {
   "cell_type": "code",
   "execution_count": 142,
   "id": "82ff0f79-d2c5-43f4-9620-57920e30c7fd",
   "metadata": {},
   "outputs": [
    {
     "data": {
      "text/plain": [
       "1.4142135623730951"
      ]
     },
     "execution_count": 142,
     "metadata": {},
     "output_type": "execute_result"
    }
   ],
   "source": [
    "np.sqrt(2)"
   ]
  },
  {
   "cell_type": "code",
   "execution_count": 146,
   "id": "604823d7-857e-41e1-b2ef-71ba7a22aa52",
   "metadata": {},
   "outputs": [
    {
     "data": {
      "text/plain": [
       "3.0"
      ]
     },
     "execution_count": 146,
     "metadata": {},
     "output_type": "execute_result"
    }
   ],
   "source": [
    "np.cbrt(27)"
   ]
  },
  {
   "cell_type": "code",
   "execution_count": 148,
   "id": "307e12a1-dab8-4b27-80eb-7c5c45da7edc",
   "metadata": {},
   "outputs": [
    {
     "data": {
      "text/plain": [
       "array([ 3,  6,  9, 12, 15, 18, 21, 24, 27])"
      ]
     },
     "execution_count": 148,
     "metadata": {},
     "output_type": "execute_result"
    }
   ],
   "source": [
    "A16 = np.arange(3,28,3)\n",
    "A16"
   ]
  },
  {
   "cell_type": "code",
   "execution_count": 150,
   "id": "a47c688c-0cc6-4bc9-a0c5-689020e2feab",
   "metadata": {},
   "outputs": [
    {
     "data": {
      "text/plain": [
       "array([1.44224957, 1.81712059, 2.08008382, 2.28942849, 2.46621207,\n",
       "       2.62074139, 2.75892418, 2.88449914, 3.        ])"
      ]
     },
     "execution_count": 150,
     "metadata": {},
     "output_type": "execute_result"
    }
   ],
   "source": [
    "np.cbrt(A16)"
   ]
  },
  {
   "cell_type": "code",
   "execution_count": 152,
   "id": "ee5748e5-51f0-4c25-9101-1403bb7dbd40",
   "metadata": {},
   "outputs": [
    {
     "data": {
      "text/plain": [
       "7.745966692414834"
      ]
     },
     "execution_count": 152,
     "metadata": {},
     "output_type": "execute_result"
    }
   ],
   "source": [
    "np.std(A16)"
   ]
  },
  {
   "cell_type": "code",
   "execution_count": 154,
   "id": "d622197b-8917-42d3-9ffb-922eaa6867f4",
   "metadata": {},
   "outputs": [
    {
     "data": {
      "text/plain": [
       "60.0"
      ]
     },
     "execution_count": 154,
     "metadata": {},
     "output_type": "execute_result"
    }
   ],
   "source": [
    "np.var(A16)"
   ]
  },
  {
   "cell_type": "code",
   "execution_count": 156,
   "id": "14a14a32-1823-43d4-a2b3-7dbd24897c27",
   "metadata": {},
   "outputs": [
    {
     "data": {
      "text/plain": [
       "15.0"
      ]
     },
     "execution_count": 156,
     "metadata": {},
     "output_type": "execute_result"
    }
   ],
   "source": [
    "np.mean(A16)"
   ]
  },
  {
   "cell_type": "code",
   "execution_count": 186,
   "id": "0a4c805c-e0bc-42b5-88ef-8a8141d5723d",
   "metadata": {},
   "outputs": [],
   "source": [
    "A17 = np.arange(1,11)\n",
    "A18 = np.arange(11,21)"
   ]
  },
  {
   "cell_type": "code",
   "execution_count": 188,
   "id": "f8b2ea65-5986-4ee3-9b8e-d311a51b3fe0",
   "metadata": {},
   "outputs": [
    {
     "data": {
      "text/plain": [
       "array([[ 1,  2,  3,  4,  5],\n",
       "       [ 6,  7,  8,  9, 10]])"
      ]
     },
     "execution_count": 188,
     "metadata": {},
     "output_type": "execute_result"
    }
   ],
   "source": [
    "A19 = A17.reshape(2,5)\n",
    "A20 = A18.reshape(2,5)\n",
    "A19"
   ]
  },
  {
   "cell_type": "code",
   "execution_count": 190,
   "id": "7b20fcbd-cea8-4cf5-a7db-b35096af955d",
   "metadata": {},
   "outputs": [
    {
     "data": {
      "text/plain": [
       "array([[11, 12, 13, 14, 15],\n",
       "       [16, 17, 18, 19, 20]])"
      ]
     },
     "execution_count": 190,
     "metadata": {},
     "output_type": "execute_result"
    }
   ],
   "source": [
    "A20"
   ]
  },
  {
   "cell_type": "code",
   "execution_count": 192,
   "id": "cad01fc2-508a-4402-bbba-8604d7f313c7",
   "metadata": {},
   "outputs": [
    {
     "data": {
      "text/plain": [
       "array([[12, 14, 16, 18, 20],\n",
       "       [22, 24, 26, 28, 30]])"
      ]
     },
     "execution_count": 192,
     "metadata": {},
     "output_type": "execute_result"
    }
   ],
   "source": [
    "A19 + A20"
   ]
  },
  {
   "cell_type": "code",
   "execution_count": 194,
   "id": "023a78ad-e3f8-45fb-ae0b-e0269a53f2b6",
   "metadata": {},
   "outputs": [
    {
     "data": {
      "text/plain": [
       "array([[10, 10, 10, 10, 10],\n",
       "       [10, 10, 10, 10, 10]])"
      ]
     },
     "execution_count": 194,
     "metadata": {},
     "output_type": "execute_result"
    }
   ],
   "source": [
    "A20-A19"
   ]
  },
  {
   "cell_type": "code",
   "execution_count": 196,
   "id": "866940b5-a728-4600-9cb3-4e2367501c54",
   "metadata": {},
   "outputs": [
    {
     "data": {
      "text/plain": [
       "array([[ 11,  24,  39,  56,  75],\n",
       "       [ 96, 119, 144, 171, 200]])"
      ]
     },
     "execution_count": 196,
     "metadata": {},
     "output_type": "execute_result"
    }
   ],
   "source": [
    "A19*A20"
   ]
  },
  {
   "cell_type": "code",
   "execution_count": 198,
   "id": "3a4085b2-26df-4bf3-8371-421791b858cc",
   "metadata": {},
   "outputs": [
    {
     "data": {
      "text/plain": [
       "array([[0.09090909, 0.16666667, 0.23076923, 0.28571429, 0.33333333],\n",
       "       [0.375     , 0.41176471, 0.44444444, 0.47368421, 0.5       ]])"
      ]
     },
     "execution_count": 198,
     "metadata": {},
     "output_type": "execute_result"
    }
   ],
   "source": [
    "A19/A20"
   ]
  },
  {
   "cell_type": "code",
   "execution_count": 200,
   "id": "560fa1ca-93a1-4009-9485-cef659b39e45",
   "metadata": {},
   "outputs": [
    {
     "ename": "ValueError",
     "evalue": "shapes (2,5) and (2,5) not aligned: 5 (dim 1) != 2 (dim 0)",
     "output_type": "error",
     "traceback": [
      "\u001b[1;31m---------------------------------------------------------------------------\u001b[0m",
      "\u001b[1;31mValueError\u001b[0m                                Traceback (most recent call last)",
      "Cell \u001b[1;32mIn[200], line 1\u001b[0m\n\u001b[1;32m----> 1\u001b[0m A19\u001b[38;5;241m.\u001b[39mdot(A20)\n",
      "\u001b[1;31mValueError\u001b[0m: shapes (2,5) and (2,5) not aligned: 5 (dim 1) != 2 (dim 0)"
     ]
    }
   ],
   "source": [
    "A19.dot(A20)"
   ]
  },
  {
   "cell_type": "code",
   "execution_count": null,
   "id": "b6e4ffdc-2182-4719-bded-2b60ea2c51d5",
   "metadata": {},
   "outputs": [],
   "source": []
  }
 ],
 "metadata": {
  "kernelspec": {
   "display_name": "Python 3 (ipykernel)",
   "language": "python",
   "name": "python3"
  },
  "language_info": {
   "codemirror_mode": {
    "name": "ipython",
    "version": 3
   },
   "file_extension": ".py",
   "mimetype": "text/x-python",
   "name": "python",
   "nbconvert_exporter": "python",
   "pygments_lexer": "ipython3",
   "version": "3.12.4"
  }
 },
 "nbformat": 4,
 "nbformat_minor": 5
}
