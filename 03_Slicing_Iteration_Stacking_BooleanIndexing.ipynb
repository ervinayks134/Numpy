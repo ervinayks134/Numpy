{
 "cells": [
  {
   "cell_type": "markdown",
   "id": "c7c1e940-cf29-4c5f-a854-c70faf40f5e0",
   "metadata": {},
   "source": [
    "# Slicing"
   ]
  },
  {
   "cell_type": "code",
   "execution_count": 2,
   "id": "49b5deda-21d6-4b18-909d-748c03fc838a",
   "metadata": {},
   "outputs": [],
   "source": [
    "import numpy as np"
   ]
  },
  {
   "cell_type": "code",
   "execution_count": 6,
   "id": "657694ba-5469-4fb2-bfb9-940cb18df02e",
   "metadata": {},
   "outputs": [
    {
     "data": {
      "text/plain": [
       "array([1, 2, 3, 4, 5])"
      ]
     },
     "execution_count": 6,
     "metadata": {},
     "output_type": "execute_result"
    }
   ],
   "source": [
    "A1 = np.array([1,2,3,4,5])\n",
    "A1"
   ]
  },
  {
   "cell_type": "code",
   "execution_count": 14,
   "id": "36ff0069-6d4a-4ebd-8812-ad27dc00e697",
   "metadata": {},
   "outputs": [
    {
     "data": {
      "text/plain": [
       "1"
      ]
     },
     "execution_count": 14,
     "metadata": {},
     "output_type": "execute_result"
    }
   ],
   "source": [
    "A1[0]"
   ]
  },
  {
   "cell_type": "code",
   "execution_count": 16,
   "id": "0dda9928-2c97-40bd-9df6-a9107614236c",
   "metadata": {},
   "outputs": [
    {
     "data": {
      "text/plain": [
       "array([3, 4])"
      ]
     },
     "execution_count": 16,
     "metadata": {},
     "output_type": "execute_result"
    }
   ],
   "source": [
    "A1[2:4]"
   ]
  },
  {
   "cell_type": "code",
   "execution_count": 23,
   "id": "8a1a7b60-5837-43be-beec-a2baec8055e0",
   "metadata": {},
   "outputs": [
    {
     "data": {
      "text/plain": [
       "array([[ 5, 10, 15, 20, 25],\n",
       "       [30, 35, 40, 45, 50],\n",
       "       [55, 60, 65, 70, 75]])"
      ]
     },
     "execution_count": 23,
     "metadata": {},
     "output_type": "execute_result"
    }
   ],
   "source": [
    "A2 = np.array([[5,10,15,20,25],[30,35,40,45,50],[55,60,65,70,75]])\n",
    "A2"
   ]
  },
  {
   "cell_type": "code",
   "execution_count": 25,
   "id": "c4278d4a-c049-4826-95f7-f7d15665e805",
   "metadata": {},
   "outputs": [
    {
     "data": {
      "text/plain": [
       "5"
      ]
     },
     "execution_count": 25,
     "metadata": {},
     "output_type": "execute_result"
    }
   ],
   "source": [
    "A2[0,0]"
   ]
  },
  {
   "cell_type": "code",
   "execution_count": 29,
   "id": "13b77821-4572-4c0f-8189-b8b5cd05dc33",
   "metadata": {},
   "outputs": [
    {
     "data": {
      "text/plain": [
       "array([[15, 20],\n",
       "       [40, 45]])"
      ]
     },
     "execution_count": 29,
     "metadata": {},
     "output_type": "execute_result"
    }
   ],
   "source": [
    "A2[0:2,2:4]"
   ]
  },
  {
   "cell_type": "code",
   "execution_count": 31,
   "id": "3e995483-3d6d-463e-a19f-afc68ceb0afa",
   "metadata": {},
   "outputs": [
    {
     "data": {
      "text/plain": [
       "array([[ 5, 10, 15, 20, 25],\n",
       "       [30, 35, 40, 45, 50],\n",
       "       [55, 60, 65, 70, 75]])"
      ]
     },
     "execution_count": 31,
     "metadata": {},
     "output_type": "execute_result"
    }
   ],
   "source": [
    "A2[:,:]"
   ]
  },
  {
   "cell_type": "code",
   "execution_count": 33,
   "id": "197fbf0c-e9eb-4b63-b358-72a37512639a",
   "metadata": {},
   "outputs": [
    {
     "data": {
      "text/plain": [
       "array([25, 50, 75])"
      ]
     },
     "execution_count": 33,
     "metadata": {},
     "output_type": "execute_result"
    }
   ],
   "source": [
    "A2[:,-1]"
   ]
  },
  {
   "cell_type": "code",
   "execution_count": 37,
   "id": "019ab057-9d84-49a2-8c8c-7db51ba37579",
   "metadata": {},
   "outputs": [
    {
     "data": {
      "text/plain": [
       "array([[20, 25],\n",
       "       [45, 50],\n",
       "       [70, 75]])"
      ]
     },
     "execution_count": 37,
     "metadata": {},
     "output_type": "execute_result"
    }
   ],
   "source": [
    "A2[:,3:5]"
   ]
  },
  {
   "cell_type": "markdown",
   "id": "b95a60a8-4eb7-406f-9515-eefc0f3f917a",
   "metadata": {},
   "source": [
    "# Iterating"
   ]
  },
  {
   "cell_type": "code",
   "execution_count": 40,
   "id": "1dab470d-dbee-448a-89bd-0aa5d03e0a0b",
   "metadata": {},
   "outputs": [
    {
     "name": "stdout",
     "output_type": "stream",
     "text": [
      "1\n",
      "2\n",
      "3\n",
      "4\n",
      "5\n"
     ]
    }
   ],
   "source": [
    "A3 = np.array([1,2,3,4,5])\n",
    "for a in A3:\n",
    "    print(a)"
   ]
  },
  {
   "cell_type": "code",
   "execution_count": 42,
   "id": "18d563c8-5a8a-4963-a672-cc472b22e35f",
   "metadata": {},
   "outputs": [
    {
     "name": "stdout",
     "output_type": "stream",
     "text": [
      "[1 2 3 4 5]\n",
      "[ 6  7  8  9 10]\n"
     ]
    }
   ],
   "source": [
    "A4 = np.array([[1,2,3,4,5],[6,7,8,9,10]])\n",
    "for a in A4:\n",
    "    print(a)"
   ]
  },
  {
   "cell_type": "code",
   "execution_count": 44,
   "id": "fba5a2ec-98fa-468f-98e4-72edc5935cf9",
   "metadata": {},
   "outputs": [
    {
     "name": "stdout",
     "output_type": "stream",
     "text": [
      "[[ 1  2  3  4  5]\n",
      " [ 6  7  8  9 10]]\n"
     ]
    }
   ],
   "source": [
    "A5 = np.array([[[1,2,3,4,5],[6,7,8,9,10]]])\n",
    "for a in A5:\n",
    "    print(a)"
   ]
  },
  {
   "cell_type": "code",
   "execution_count": 48,
   "id": "95583aa5-30d9-44d9-8a1b-5d6e6fa6f285",
   "metadata": {},
   "outputs": [
    {
     "name": "stdout",
     "output_type": "stream",
     "text": [
      "1\n",
      "2\n",
      "3\n",
      "4\n",
      "5\n",
      "6\n",
      "7\n",
      "8\n",
      "9\n",
      "10\n"
     ]
    }
   ],
   "source": [
    "for a in A5.flat:\n",
    "    print(a)"
   ]
  },
  {
   "cell_type": "markdown",
   "id": "0edfd15a-28e5-48f9-b93a-ec2421b63abe",
   "metadata": {},
   "source": [
    "# Stacking"
   ]
  },
  {
   "cell_type": "code",
   "execution_count": 53,
   "id": "f3f6935f-86d0-4d55-9e4f-135eb1e7f7b8",
   "metadata": {},
   "outputs": [
    {
     "data": {
      "text/plain": [
       "array([[0, 1, 2],\n",
       "       [3, 4, 5]])"
      ]
     },
     "execution_count": 53,
     "metadata": {},
     "output_type": "execute_result"
    }
   ],
   "source": [
    "A6 = np.arange(6).reshape(2,3)\n",
    "A6"
   ]
  },
  {
   "cell_type": "code",
   "execution_count": 57,
   "id": "66dd4841-5451-4ab6-a4b7-402675c88bbf",
   "metadata": {},
   "outputs": [
    {
     "data": {
      "text/plain": [
       "array([[ 6,  7,  8],\n",
       "       [ 9, 10, 11]])"
      ]
     },
     "execution_count": 57,
     "metadata": {},
     "output_type": "execute_result"
    }
   ],
   "source": [
    "A7 = np.arange(6,12).reshape(2,3)\n",
    "A7"
   ]
  },
  {
   "cell_type": "code",
   "execution_count": 65,
   "id": "76205092-40fe-4759-82a0-34c364a3c73f",
   "metadata": {},
   "outputs": [
    {
     "data": {
      "text/plain": [
       "array([[ 0,  1,  2],\n",
       "       [ 3,  4,  5],\n",
       "       [ 6,  7,  8],\n",
       "       [ 9, 10, 11]])"
      ]
     },
     "execution_count": 65,
     "metadata": {},
     "output_type": "execute_result"
    }
   ],
   "source": [
    "np.vstack((A6,A7))"
   ]
  },
  {
   "cell_type": "code",
   "execution_count": 67,
   "id": "5aaea2f6-6ed2-480e-8b51-b8386dc0b82f",
   "metadata": {},
   "outputs": [
    {
     "data": {
      "text/plain": [
       "array([[ 0,  1,  2,  6,  7,  8],\n",
       "       [ 3,  4,  5,  9, 10, 11]])"
      ]
     },
     "execution_count": 67,
     "metadata": {},
     "output_type": "execute_result"
    }
   ],
   "source": [
    "np.hstack((A6,A7))"
   ]
  },
  {
   "cell_type": "code",
   "execution_count": 89,
   "id": "fba990b3-6a4b-4b30-96bb-35e391309321",
   "metadata": {},
   "outputs": [
    {
     "data": {
      "text/plain": [
       "array([[ 0,  1,  2,  3,  4,  5,  6,  7,  8,  9, 10, 11, 12, 13, 14, 15,\n",
       "        16, 17, 18, 19, 20, 21, 22, 23],\n",
       "       [24, 25, 26, 27, 28, 29, 30, 31, 32, 33, 34, 35, 36, 37, 38, 39,\n",
       "        40, 41, 42, 43, 44, 45, 46, 47]])"
      ]
     },
     "execution_count": 89,
     "metadata": {},
     "output_type": "execute_result"
    }
   ],
   "source": [
    "A8 = np.arange((48)).reshape(2,24)\n",
    "A8"
   ]
  },
  {
   "cell_type": "code",
   "execution_count": 95,
   "id": "bfd7bfc7-4601-4853-82dc-dabce2326c87",
   "metadata": {},
   "outputs": [
    {
     "data": {
      "text/plain": [
       "[array([[ 0,  1,  2,  3,  4,  5,  6,  7,  8,  9, 10, 11, 12, 13, 14, 15,\n",
       "         16, 17, 18, 19, 20, 21, 22, 23]]),\n",
       " array([[24, 25, 26, 27, 28, 29, 30, 31, 32, 33, 34, 35, 36, 37, 38, 39,\n",
       "         40, 41, 42, 43, 44, 45, 46, 47]])]"
      ]
     },
     "execution_count": 95,
     "metadata": {},
     "output_type": "execute_result"
    }
   ],
   "source": [
    "np.vsplit(A8,2)"
   ]
  },
  {
   "cell_type": "code",
   "execution_count": 97,
   "id": "00bc8a84-73b7-4b4f-83ce-2672f92b2131",
   "metadata": {},
   "outputs": [
    {
     "data": {
      "text/plain": [
       "[array([[ 0,  1,  2,  3,  4,  5],\n",
       "        [24, 25, 26, 27, 28, 29]]),\n",
       " array([[ 6,  7,  8,  9, 10, 11],\n",
       "        [30, 31, 32, 33, 34, 35]]),\n",
       " array([[12, 13, 14, 15, 16, 17],\n",
       "        [36, 37, 38, 39, 40, 41]]),\n",
       " array([[18, 19, 20, 21, 22, 23],\n",
       "        [42, 43, 44, 45, 46, 47]])]"
      ]
     },
     "execution_count": 97,
     "metadata": {},
     "output_type": "execute_result"
    }
   ],
   "source": [
    "np.hsplit(A8,4)"
   ]
  },
  {
   "cell_type": "markdown",
   "id": "d1bd9933-d49b-417f-8e5d-376df97652e6",
   "metadata": {},
   "source": [
    "# Boolean Indexing"
   ]
  },
  {
   "cell_type": "code",
   "execution_count": 102,
   "id": "9ccc9ac5-87ed-4d2c-820a-894ea2e66ee8",
   "metadata": {},
   "outputs": [
    {
     "data": {
      "text/plain": [
       "array([[ 0,  1,  2,  3,  4],\n",
       "       [ 5,  6,  7,  8,  9],\n",
       "       [10, 11, 12, 13, 14]])"
      ]
     },
     "execution_count": 102,
     "metadata": {},
     "output_type": "execute_result"
    }
   ],
   "source": [
    "A9 = np.arange(15).reshape(3,5)\n",
    "A9"
   ]
  },
  {
   "cell_type": "code",
   "execution_count": 104,
   "id": "0f198abb-a04a-433c-9967-f8bf55f90ef0",
   "metadata": {},
   "outputs": [],
   "source": [
    "A10 = A9>7"
   ]
  },
  {
   "cell_type": "code",
   "execution_count": 106,
   "id": "eb0170a6-4bf1-429a-b64f-871f3596c65b",
   "metadata": {},
   "outputs": [
    {
     "data": {
      "text/plain": [
       "array([[False, False, False, False, False],\n",
       "       [False, False, False,  True,  True],\n",
       "       [ True,  True,  True,  True,  True]])"
      ]
     },
     "execution_count": 106,
     "metadata": {},
     "output_type": "execute_result"
    }
   ],
   "source": [
    "A10"
   ]
  },
  {
   "cell_type": "code",
   "execution_count": 110,
   "id": "1b9d2b0e-0413-49b1-9f42-3d645c1fa01f",
   "metadata": {},
   "outputs": [
    {
     "data": {
      "text/plain": [
       "array([ 8,  9, 10, 11, 12, 13, 14])"
      ]
     },
     "execution_count": 110,
     "metadata": {},
     "output_type": "execute_result"
    }
   ],
   "source": [
    "A9[A10]"
   ]
  },
  {
   "cell_type": "code",
   "execution_count": 114,
   "id": "e47f9259-f31f-4c2e-9b76-8e3008a92d54",
   "metadata": {},
   "outputs": [
    {
     "data": {
      "text/plain": [
       "array([[  0,   1,   2,   3,   4],\n",
       "       [  5,   6,   7, -99, -99],\n",
       "       [-99, -99, -99, -99, -99]])"
      ]
     },
     "execution_count": 114,
     "metadata": {},
     "output_type": "execute_result"
    }
   ],
   "source": [
    "A9[A10] = -99\n",
    "A9"
   ]
  },
  {
   "cell_type": "code",
   "execution_count": null,
   "id": "a5360bf7-8ee7-4ad2-8c28-b4860a0aab84",
   "metadata": {},
   "outputs": [],
   "source": []
  }
 ],
 "metadata": {
  "kernelspec": {
   "display_name": "Python 3 (ipykernel)",
   "language": "python",
   "name": "python3"
  },
  "language_info": {
   "codemirror_mode": {
    "name": "ipython",
    "version": 3
   },
   "file_extension": ".py",
   "mimetype": "text/x-python",
   "name": "python",
   "nbconvert_exporter": "python",
   "pygments_lexer": "ipython3",
   "version": "3.12.4"
  }
 },
 "nbformat": 4,
 "nbformat_minor": 5
}
