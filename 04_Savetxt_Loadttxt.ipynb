{
 "cells": [
  {
   "cell_type": "code",
   "execution_count": 3,
   "id": "ff97de73-a823-47a5-acc7-179b3f656264",
   "metadata": {},
   "outputs": [],
   "source": [
    "import numpy as np"
   ]
  },
  {
   "cell_type": "code",
   "execution_count": 25,
   "id": "4a33ec29-4f94-4482-aee4-77e54eb03895",
   "metadata": {},
   "outputs": [],
   "source": [
    "x = np.arange(15).reshape(3,5)\n",
    "x = x.astype(np.int32)"
   ]
  },
  {
   "cell_type": "code",
   "execution_count": 29,
   "id": "97be4e5f-7983-42d1-a005-956d35c4e5dc",
   "metadata": {},
   "outputs": [],
   "source": [
    "np.savetxt('test.txt', x)"
   ]
  },
  {
   "cell_type": "code",
   "execution_count": 37,
   "id": "03f78ebc-e485-4364-b9f1-2f11fede8708",
   "metadata": {},
   "outputs": [
    {
     "data": {
      "text/plain": [
       "array([[ 0.,  1.,  2.,  3.,  4.],\n",
       "       [ 5.,  6.,  7.,  8.,  9.],\n",
       "       [10., 11., 12., 13., 14.]])"
      ]
     },
     "execution_count": 37,
     "metadata": {},
     "output_type": "execute_result"
    }
   ],
   "source": [
    "y = np.loadtxt('test.txt')\n",
    "y"
   ]
  },
  {
   "cell_type": "code",
   "execution_count": null,
   "id": "b6ad47ef-acbe-4f9c-8eb4-e0147481bb44",
   "metadata": {},
   "outputs": [],
   "source": []
  }
 ],
 "metadata": {
  "kernelspec": {
   "display_name": "Python 3 (ipykernel)",
   "language": "python",
   "name": "python3"
  },
  "language_info": {
   "codemirror_mode": {
    "name": "ipython",
    "version": 3
   },
   "file_extension": ".py",
   "mimetype": "text/x-python",
   "name": "python",
   "nbconvert_exporter": "python",
   "pygments_lexer": "ipython3",
   "version": "3.12.4"
  }
 },
 "nbformat": 4,
 "nbformat_minor": 5
}
